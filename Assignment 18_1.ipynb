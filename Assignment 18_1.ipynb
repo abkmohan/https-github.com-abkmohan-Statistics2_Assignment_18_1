{
 "cells": [
  {
   "cell_type": "code",
   "execution_count": null,
   "metadata": {
    "collapsed": true
   },
   "outputs": [],
   "source": [
    "#Course: Data Science Masters\n",
    "#Title: Assignment 18.1            \n",
    "#Tool: Jupyter notebook \n",
    "#Author: Krishna A\n",
    "#Date: 25-05-2018 (DD/MM/YYYY)\n",
    "\n",
    "#Problem Statement \n",
    "#   Blood glucose levels for obese patients have a mean of 100 with a standard deviation of\n",
    "#   15. A researcher thinks that a diet high in raw cornstarch will have a positive effect on\n",
    "#   blood glucose levels. A sample of 36 patients who have tried the raw cornstarch diet\n",
    "#   have a mean glucose level of 108. Test the hypothesis that the raw cornstarch had an effect or not."
   ]
  },
  {
   "cell_type": "raw",
   "metadata": {},
   "source": [
    "#Step-1: \n",
    "       State the hypotheses. The population mean is 100.\n",
    "\n",
    "        H0: μ= 100\n",
    "        H1: μ > 100\n",
    "\n",
    "#Step-2: \n",
    "        Set up the significance level. It is not given in the problem so let’s assume it as 5% (0.05).\n",
    "\n",
    "#Step-3: \n",
    "        Compute the random chance probability using z score and z-table.\n",
    "\n",
    "        For this set of data: z= (108-100) / (15/√36)=3.20\n",
    "\n",
    "        Probability by looking at z-table and p-value associated with 3.20 is 0.9993 i.e. probability of having value less than 108 is 0.9993 and more than or equals to 108 is (1-0.9993)=0.0007.\n",
    "\n",
    "#Conclusion: \n",
    "        It is less than 0.05 so we will reject the Null hypothesis i.e. there is raw cornstarch effect."
   ]
  },
  {
   "cell_type": "code",
   "execution_count": null,
   "metadata": {
    "collapsed": true
   },
   "outputs": [],
   "source": []
  }
 ],
 "metadata": {
  "kernelspec": {
   "display_name": "Python 3",
   "language": "python",
   "name": "python3"
  },
  "language_info": {
   "codemirror_mode": {
    "name": "ipython",
    "version": 3
   },
   "file_extension": ".py",
   "mimetype": "text/x-python",
   "name": "python",
   "nbconvert_exporter": "python",
   "pygments_lexer": "ipython3",
   "version": "3.6.3"
  }
 },
 "nbformat": 4,
 "nbformat_minor": 2
}
